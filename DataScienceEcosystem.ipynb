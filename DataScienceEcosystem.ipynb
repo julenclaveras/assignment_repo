{
 "cells": [
  {
   "cell_type": "markdown",
   "id": "25b450f0-9445-4c06-9564-9ca9cb39a241",
   "metadata": {},
   "source": [
    "# Data Science Tools and Ecosystem"
   ]
  },
  {
   "cell_type": "markdown",
   "id": "b1f2f554-8d5c-49b6-9ee9-95c026842555",
   "metadata": {},
   "source": [
    "In this notebook, Data Science Tools and Ecosystem are summarized."
   ]
  },
  {
   "cell_type": "markdown",
   "id": "23d535a2-93c0-4a7a-bb35-d3bd8283f38f",
   "metadata": {},
   "source": [
    "Objectives:\n",
    "- List popular languages for Data Science\n",
    "- List commonly used libraries used by Data Scientist\n",
    "- Convert 200 minutes to hours"
   ]
  },
  {
   "cell_type": "markdown",
   "id": "b38ef021-6010-4537-9829-6cb4037c2f74",
   "metadata": {
    "tags": []
   },
   "source": [
    "Some of the popular languages that Data Scientists use are:\n",
    "1. Python\n",
    "2. R\n",
    "3. Matlab"
   ]
  },
  {
   "cell_type": "markdown",
   "id": "22581f05-cf50-441c-b05f-399cd38cb38c",
   "metadata": {},
   "source": [
    "Some of the commonly used libraries used by Data Scientists include:\n",
    "1. Matplotlib\n",
    "2. Pandas\n",
    "3. NumPy"
   ]
  },
  {
   "cell_type": "markdown",
   "id": "b72cc3f0-e5dc-425f-99e5-a73c183d8084",
   "metadata": {
    "tags": []
   },
   "source": [
    "|Data Science Tools|\n",
    "--------------------\n",
    "|Jupyter Notebook|\n",
    "|Apache Spark|\n",
    "|Apache Hadoop|"
   ]
  },
  {
   "cell_type": "markdown",
   "id": "5d97becb-9bd5-4279-a907-e08b4f10a133",
   "metadata": {},
   "source": [
    "### Below are a few examples of evaluating arithmetic expressions in Python"
   ]
  },
  {
   "cell_type": "code",
   "execution_count": 4,
   "id": "4bf82010-84ae-4a2c-9327-427a5efaaa27",
   "metadata": {
    "tags": []
   },
   "outputs": [
    {
     "data": {
      "text/plain": [
       "17"
      ]
     },
     "execution_count": 4,
     "metadata": {},
     "output_type": "execute_result"
    }
   ],
   "source": [
    "# This a simple arithmetic expression to mutiply then add integers\n",
    "(3*4)+5"
   ]
  },
  {
   "cell_type": "code",
   "execution_count": 6,
   "id": "2d89ba97-dfab-439e-89c2-5135c0aa5182",
   "metadata": {
    "tags": []
   },
   "outputs": [
    {
     "name": "stdout",
     "output_type": "stream",
     "text": [
      "200 minutes = 3.3333333333333335 hours\n"
     ]
    }
   ],
   "source": [
    "# This will convert 200 minutes to hours by diving by 60\n",
    "minutes = 200\n",
    "hours = minutes/60\n",
    "print(\"200 minutes =\",hours,\"hours\")"
   ]
  },
  {
   "cell_type": "markdown",
   "id": "3f15c22d-ef2d-4813-a5d7-b5e66cd45a0c",
   "metadata": {},
   "source": [
    "## Author\n",
    "Julen Claveras"
   ]
  },
  {
   "cell_type": "code",
   "execution_count": null,
   "id": "cf3b419d-cd02-4af9-bedf-900563557158",
   "metadata": {},
   "outputs": [],
   "source": []
  }
 ],
 "metadata": {
  "kernelspec": {
   "display_name": "Python",
   "language": "python",
   "name": "conda-env-python-py"
  },
  "language_info": {
   "codemirror_mode": {
    "name": "ipython",
    "version": 3
   },
   "file_extension": ".py",
   "mimetype": "text/x-python",
   "name": "python",
   "nbconvert_exporter": "python",
   "pygments_lexer": "ipython3",
   "version": "3.7.12"
  }
 },
 "nbformat": 4,
 "nbformat_minor": 5
}
